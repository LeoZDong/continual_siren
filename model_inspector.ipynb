{
 "cells": [
  {
   "attachments": {},
   "cell_type": "markdown",
   "metadata": {},
   "source": [
    "## Inspect Trained Model\n"
   ]
  },
  {
   "cell_type": "code",
   "execution_count": 44,
   "metadata": {},
   "outputs": [],
   "source": [
    "import torch\n",
    "import yaml\n",
    "from hydra.utils import instantiate\n",
    "from omegaconf import DictConfig, OmegaConf\n",
    "from torch.utils.data import Dataset\n",
    "\n",
    "import data\n",
    "from networks import *\n",
    "from utils import mse2psnr"
   ]
  },
  {
   "attachments": {},
   "cell_type": "markdown",
   "metadata": {},
   "source": [
    "### Select model to inspect\n"
   ]
  },
  {
   "cell_type": "code",
   "execution_count": 45,
   "metadata": {},
   "outputs": [],
   "source": [
    "exp_name = \"non_continual\"\n",
    "id = \"222611\"\n",
    "path = f\"exp/{exp_name}/{id}\"\n",
    "\n",
    "config_path = f\"{path}/.hydra/config.yaml\"\n",
    "ckpt_path = f\"{path}/ckpt/ckpt_1000.pt\""
   ]
  },
  {
   "cell_type": "code",
   "execution_count": 46,
   "metadata": {},
   "outputs": [],
   "source": [
    "# Load config\n",
    "with open(config_path, \"r\") as stream:\n",
    "    config = yaml.safe_load(stream)\n",
    "    cfg = DictConfig(config)\n",
    "\n",
    "# Load model\n",
    "model = instantiate(cfg.network)\n",
    "ckpt = torch.load(ckpt_path)\n",
    "model_state_dict = ckpt[\"model_state_dict\"]\n",
    "model.load_state_dict(ckpt[\"model_state_dict\"])\n",
    "model.eval()\n",
    "\n",
    "# Load source image\n",
    "dataset = instantiate(cfg.data)"
   ]
  },
  {
   "attachments": {},
   "cell_type": "markdown",
   "metadata": {},
   "source": [
    "### Sanity checks\n"
   ]
  },
  {
   "cell_type": "code",
   "execution_count": 47,
   "metadata": {},
   "outputs": [
    {
     "name": "stdout",
     "output_type": "stream",
     "text": [
      "mse=0.00046232668682932854\n",
      "psnr=33.350510371087324\n"
     ]
    }
   ],
   "source": [
    "# Sanity check model performance (on the full grid)\n",
    "model_output, _ = model(dataset.full_coords)\n",
    "model_output = model_output.cpu().detach()\n",
    "mse = ((model_output - dataset.full_pixels) ** 2).mean().item()\n",
    "psnr = mse2psnr(mse)\n",
    "print(f\"mse={mse}\")\n",
    "print(f\"psnr={psnr}\")"
   ]
  }
 ],
 "metadata": {
  "kernelspec": {
   "display_name": "img",
   "language": "python",
   "name": "python3"
  },
  "language_info": {
   "codemirror_mode": {
    "name": "ipython",
    "version": 3
   },
   "file_extension": ".py",
   "mimetype": "text/x-python",
   "name": "python",
   "nbconvert_exporter": "python",
   "pygments_lexer": "ipython3",
   "version": "3.9.13 (main, Aug 25 2022, 18:24:45) \n[Clang 12.0.0 ]"
  },
  "orig_nbformat": 4,
  "vscode": {
   "interpreter": {
    "hash": "810cda73fbfb906e48b314f5f0f39d6e47df735439d748866f24116813ff86d7"
   }
  }
 },
 "nbformat": 4,
 "nbformat_minor": 2
}
